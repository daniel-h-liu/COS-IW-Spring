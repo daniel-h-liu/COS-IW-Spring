{
 "cells": [
  {
   "cell_type": "markdown",
   "metadata": {},
   "source": [
    "## Animated Line Graph\n",
    "### Last edited: Thu 3/27\n",
    "\n",
    "### Description: Generates animated line graph of composer popularity over time."
   ]
  },
  {
   "cell_type": "code",
   "execution_count": 2,
   "metadata": {},
   "outputs": [],
   "source": [
    "# Import Statements\n",
    "import pandas as pd\n",
    "import numpy as np\n",
    "import matplotlib.pyplot as plt\n",
    "import matplotlib.animation as animation\n",
    "from common import *\n",
    "\n",
    "%matplotlib widget"
   ]
  },
  {
   "cell_type": "code",
   "execution_count": null,
   "metadata": {},
   "outputs": [],
   "source": [
    "# Unpickle dataframes\n",
    "concerts = pd.read_pickle(DF_FILE_LOC_MPL + \"concerts.pkl\")\n",
    "works = pd.read_pickle(DF_FILE_LOC_MPL + \"works.pkl\")"
   ]
  },
  {
   "cell_type": "code",
   "execution_count": 4,
   "metadata": {},
   "outputs": [],
   "source": [
    "# Clean works df\n",
    "works = works.query('id != \"0*\"') # remove all entries that are intermissions\n",
    "\n",
    "# Normalize title if it is a dictionary\n",
    "def normalize_title(title):\n",
    "    if isinstance(title, dict):\n",
    "        return title.get(\"em\", \"\") + \" \" + title.get(\"_\", \"\")\n",
    "    else:\n",
    "        return title\n",
    "works['n_title'] = works['title'].apply(normalize_title)\n",
    "\n",
    "## Add Date column to concerts and works\n",
    "\n",
    "# extract date from concert-info dictionary as new column\n",
    "concerts['date'] = concerts['concerts'].apply(lambda x : x[0].get('Date', None))\n",
    "# Convert extracted date to ISO8601, UTC datetime format\n",
    "concerts['date'] = pd.to_datetime(concerts['date'], utc=True)\n",
    "# Merge works with the datetime column\n",
    "works = works.merge(concerts[['programID', 'date']], on='programID', how='left')"
   ]
  },
  {
   "cell_type": "code",
   "execution_count": null,
   "metadata": {},
   "outputs": [],
   "source": [
    "# Animated Bar Graph of Composer Frequency over Time\n",
    "\n",
    "# Setup and Modifiable Variables\n",
    "uniq_composers = works[\"composer\"].unique()\n",
    "comp_freq = pd.Series(np.zeros(len(uniq_composers)), index=uniq_composers) # create composer frequency from zero\n",
    "start_year = 1842 # start date of animation, first date of concerts\n",
    "end_year = 2025\n",
    "year_range = 5 # modify to adjust for specificity of animation\n",
    "top_N = 10 # modify to adjust number of composers displayed\n",
    "\n",
    "# Plot setup\n",
    "fig, ax = plt.subplots()\n",
    "bars = ax.barh([], [])\n",
    "ax.set(xlim=[0, 5000], xlabel='Popularity (Times Programmed)', ylabel='Composer')\n",
    "\n",
    "# Group works by their year\n",
    "works_by_year = works.groupby(works.date.dt.year)['composer'].unique().to_dict()\n",
    "\n",
    "# Function to upate comp_freq with data from specific year_range\n",
    "def update_freq(composer):\n",
    "    global comp_freq\n",
    "    if composer in comp_freq:\n",
    "        comp_freq[composer] += 1\n",
    "\n",
    "# Function to update each frame of the animation\n",
    "def update(frame):\n",
    "    global comp_freq, bars\n",
    "\n",
    "    curr_year = start_year + frame * year_range\n",
    "    if curr_year >= end_year:\n",
    "        plt.close(fig)\n",
    "        return\n",
    "\n",
    "    # curr_year, curr_year + year_range)\n",
    "    for year in range(curr_year, min(curr_year + year_range, 2025)):\n",
    "        # Loop through all works in this year and update composer\n",
    "        if year in works_by_year:\n",
    "            new_counts = pd.Series(works_by_year[year]).value_counts()\n",
    "            comp_freq = comp_freq.add(new_counts, fill_value=0).astype(int)\n",
    "    \n",
    "    top = comp_freq.nlargest(top_N)\n",
    "    \n",
    "    ax.clear()\n",
    "    ax.set_xlim([0, 5000])\n",
    "    ax.set_xlabel(\"Popularity (Times Programmed)\")\n",
    "    ax.set_ylabel(\"Composer\")\n",
    "    ax.set_title(f\"Composer Popularity Over Time ({curr_year}-{min(curr_year + year_range, 2025)})\")\n",
    "    ax.invert_yaxis()\n",
    "    bars = ax.barh(top.index, top.values, color=\"skyblue\")\n",
    "    return bars\n",
    "\n",
    "num_frames = (end_year - start_year) // year_range\n",
    "ani = animation.FuncAnimation(fig=fig, func=update, frames=range(num_frames), interval=2000, blit=True)\n",
    "plt.show()"
   ]
  }
 ],
 "metadata": {
  "kernelspec": {
   "display_name": "venv",
   "language": "python",
   "name": "python3"
  },
  "language_info": {
   "codemirror_mode": {
    "name": "ipython",
    "version": 3
   },
   "file_extension": ".py",
   "mimetype": "text/x-python",
   "name": "python",
   "nbconvert_exporter": "python",
   "pygments_lexer": "ipython3",
   "version": "3.12.4"
  }
 },
 "nbformat": 4,
 "nbformat_minor": 2
}
